{
 "cells": [
  {
   "cell_type": "code",
   "execution_count": 1,
   "id": "7914371f",
   "metadata": {},
   "outputs": [],
   "source": [
    "#Importing libraries\n",
    "import pandas as pd\n",
    "import numpy as np\n",
    "import matplotlib.pyplot as plt\n",
    "import seaborn as sns\n",
    "import random\n",
    "from sklearn.preprocessing import LabelEncoder\n",
    "from sklearn.model_selection import train_test_split, cross_val_score\n",
    "from sklearn.metrics import accuracy_score, classification_report, confusion_matrix\n",
    "from sklearn.neural_network import MLPClassifier"
   ]
  },
  {
   "cell_type": "code",
   "execution_count": 2,
   "id": "476f1279",
   "metadata": {},
   "outputs": [
    {
     "data": {
      "text/html": [
       "<div>\n",
       "<style scoped>\n",
       "    .dataframe tbody tr th:only-of-type {\n",
       "        vertical-align: middle;\n",
       "    }\n",
       "\n",
       "    .dataframe tbody tr th {\n",
       "        vertical-align: top;\n",
       "    }\n",
       "\n",
       "    .dataframe thead th {\n",
       "        text-align: right;\n",
       "    }\n",
       "</style>\n",
       "<table border=\"1\" class=\"dataframe\">\n",
       "  <thead>\n",
       "    <tr style=\"text-align: right;\">\n",
       "      <th></th>\n",
       "      <th>Initial Side</th>\n",
       "      <th>Initial Velocity</th>\n",
       "      <th>Material</th>\n",
       "      <th>r distance (cm)</th>\n",
       "      <th>Distance to Origin</th>\n",
       "      <th>Direction</th>\n",
       "      <th>Final Side</th>\n",
       "    </tr>\n",
       "  </thead>\n",
       "  <tbody>\n",
       "    <tr>\n",
       "      <th>0</th>\n",
       "      <td>Heads</td>\n",
       "      <td>Free fall</td>\n",
       "      <td>Carpet</td>\n",
       "      <td>13</td>\n",
       "      <td>1</td>\n",
       "      <td>South</td>\n",
       "      <td>Tails</td>\n",
       "    </tr>\n",
       "    <tr>\n",
       "      <th>1</th>\n",
       "      <td>Heads</td>\n",
       "      <td>Free fall</td>\n",
       "      <td>Carpet</td>\n",
       "      <td>26</td>\n",
       "      <td>3</td>\n",
       "      <td>South</td>\n",
       "      <td>Tails</td>\n",
       "    </tr>\n",
       "    <tr>\n",
       "      <th>2</th>\n",
       "      <td>Heads</td>\n",
       "      <td>Free fall</td>\n",
       "      <td>Carpet</td>\n",
       "      <td>18</td>\n",
       "      <td>1</td>\n",
       "      <td>North</td>\n",
       "      <td>Tails</td>\n",
       "    </tr>\n",
       "    <tr>\n",
       "      <th>3</th>\n",
       "      <td>Heads</td>\n",
       "      <td>Free fall</td>\n",
       "      <td>Carpet</td>\n",
       "      <td>22</td>\n",
       "      <td>2</td>\n",
       "      <td>East</td>\n",
       "      <td>Heads</td>\n",
       "    </tr>\n",
       "    <tr>\n",
       "      <th>4</th>\n",
       "      <td>Heads</td>\n",
       "      <td>Free fall</td>\n",
       "      <td>Carpet</td>\n",
       "      <td>15</td>\n",
       "      <td>1</td>\n",
       "      <td>East</td>\n",
       "      <td>Tails</td>\n",
       "    </tr>\n",
       "    <tr>\n",
       "      <th>...</th>\n",
       "      <td>...</td>\n",
       "      <td>...</td>\n",
       "      <td>...</td>\n",
       "      <td>...</td>\n",
       "      <td>...</td>\n",
       "      <td>...</td>\n",
       "      <td>...</td>\n",
       "    </tr>\n",
       "    <tr>\n",
       "      <th>245</th>\n",
       "      <td>Tails</td>\n",
       "      <td>Velocity</td>\n",
       "      <td>Carpet</td>\n",
       "      <td>40</td>\n",
       "      <td>6</td>\n",
       "      <td>North West</td>\n",
       "      <td>Heads</td>\n",
       "    </tr>\n",
       "    <tr>\n",
       "      <th>246</th>\n",
       "      <td>Tails</td>\n",
       "      <td>Velocity</td>\n",
       "      <td>Carpet</td>\n",
       "      <td>29</td>\n",
       "      <td>7</td>\n",
       "      <td>South</td>\n",
       "      <td>Tails</td>\n",
       "    </tr>\n",
       "    <tr>\n",
       "      <th>247</th>\n",
       "      <td>Tails</td>\n",
       "      <td>Velocity</td>\n",
       "      <td>Carpet</td>\n",
       "      <td>35</td>\n",
       "      <td>5</td>\n",
       "      <td>East</td>\n",
       "      <td>Heads</td>\n",
       "    </tr>\n",
       "    <tr>\n",
       "      <th>248</th>\n",
       "      <td>Tails</td>\n",
       "      <td>Velocity</td>\n",
       "      <td>Carpet</td>\n",
       "      <td>26</td>\n",
       "      <td>6</td>\n",
       "      <td>North</td>\n",
       "      <td>Heads</td>\n",
       "    </tr>\n",
       "    <tr>\n",
       "      <th>249</th>\n",
       "      <td>Tails</td>\n",
       "      <td>Velocity</td>\n",
       "      <td>Carpet</td>\n",
       "      <td>46</td>\n",
       "      <td>11</td>\n",
       "      <td>North</td>\n",
       "      <td>Heads</td>\n",
       "    </tr>\n",
       "  </tbody>\n",
       "</table>\n",
       "<p>250 rows × 7 columns</p>\n",
       "</div>"
      ],
      "text/plain": [
       "    Initial Side Initial Velocity Material  r distance (cm)  \\\n",
       "0          Heads        Free fall   Carpet               13   \n",
       "1          Heads        Free fall   Carpet               26   \n",
       "2          Heads        Free fall   Carpet               18   \n",
       "3          Heads        Free fall   Carpet               22   \n",
       "4          Heads        Free fall   Carpet               15   \n",
       "..           ...              ...      ...              ...   \n",
       "245        Tails         Velocity   Carpet               40   \n",
       "246        Tails         Velocity   Carpet               29   \n",
       "247        Tails         Velocity   Carpet               35   \n",
       "248        Tails         Velocity   Carpet               26   \n",
       "249        Tails         Velocity   Carpet               46   \n",
       "\n",
       "     Distance to Origin   Direction Final Side  \n",
       "0                     1       South      Tails  \n",
       "1                     3       South      Tails  \n",
       "2                     1      North       Tails  \n",
       "3                     2        East      Heads  \n",
       "4                     1        East      Tails  \n",
       "..                  ...         ...        ...  \n",
       "245                   6  North West      Heads  \n",
       "246                   7       South      Tails  \n",
       "247                   5        East      Heads  \n",
       "248                   6       North      Heads  \n",
       "249                  11       North      Heads  \n",
       "\n",
       "[250 rows x 7 columns]"
      ]
     },
     "execution_count": 2,
     "metadata": {},
     "output_type": "execute_result"
    }
   ],
   "source": [
    "#Reading csv\n",
    "df = pd.read_csv(\"Final (1).csv\",delimiter = ';')\n",
    "df"
   ]
  },
  {
   "cell_type": "code",
   "execution_count": 3,
   "id": "8a841767",
   "metadata": {},
   "outputs": [
    {
     "data": {
      "text/plain": [
       "<bound method DataFrame.info of     Initial Side Initial Velocity Material  r distance (cm)  \\\n",
       "0          Heads        Free fall   Carpet               13   \n",
       "1          Heads        Free fall   Carpet               26   \n",
       "2          Heads        Free fall   Carpet               18   \n",
       "3          Heads        Free fall   Carpet               22   \n",
       "4          Heads        Free fall   Carpet               15   \n",
       "..           ...              ...      ...              ...   \n",
       "245        Tails         Velocity   Carpet               40   \n",
       "246        Tails         Velocity   Carpet               29   \n",
       "247        Tails         Velocity   Carpet               35   \n",
       "248        Tails         Velocity   Carpet               26   \n",
       "249        Tails         Velocity   Carpet               46   \n",
       "\n",
       "     Distance to Origin   Direction Final Side  \n",
       "0                     1       South      Tails  \n",
       "1                     3       South      Tails  \n",
       "2                     1      North       Tails  \n",
       "3                     2        East      Heads  \n",
       "4                     1        East      Tails  \n",
       "..                  ...         ...        ...  \n",
       "245                   6  North West      Heads  \n",
       "246                   7       South      Tails  \n",
       "247                   5        East      Heads  \n",
       "248                   6       North      Heads  \n",
       "249                  11       North      Heads  \n",
       "\n",
       "[250 rows x 7 columns]>"
      ]
     },
     "execution_count": 3,
     "metadata": {},
     "output_type": "execute_result"
    }
   ],
   "source": [
    "#Time for EDA\n",
    "df.info"
   ]
  },
  {
   "cell_type": "code",
   "execution_count": 4,
   "id": "c97abca2",
   "metadata": {},
   "outputs": [
    {
     "data": {
      "text/plain": [
       "Initial Side          0\n",
       "Initial Velocity      0\n",
       "Material              0\n",
       "r distance (cm)       0\n",
       "Distance to Origin    0\n",
       "Direction             0\n",
       "Final Side            0\n",
       "dtype: int64"
      ]
     },
     "execution_count": 4,
     "metadata": {},
     "output_type": "execute_result"
    }
   ],
   "source": [
    "df.isna().sum()"
   ]
  },
  {
   "cell_type": "code",
   "execution_count": 5,
   "id": "60d26749",
   "metadata": {},
   "outputs": [
    {
     "data": {
      "text/plain": [
       "Initial Side          object\n",
       "Initial Velocity      object\n",
       "Material              object\n",
       "r distance (cm)        int64\n",
       "Distance to Origin     int64\n",
       "Direction             object\n",
       "Final Side            object\n",
       "dtype: object"
      ]
     },
     "execution_count": 5,
     "metadata": {},
     "output_type": "execute_result"
    }
   ],
   "source": [
    "df.dtypes"
   ]
  },
  {
   "cell_type": "code",
   "execution_count": 6,
   "id": "9b8f7f9d",
   "metadata": {},
   "outputs": [
    {
     "name": "stdout",
     "output_type": "stream",
     "text": [
      "No.of.unique values in each column :\n",
      " Initial Side           2\n",
      "Initial Velocity       2\n",
      "Material               2\n",
      "r distance (cm)       52\n",
      "Distance to Origin    22\n",
      "Direction              9\n",
      "Final Side             2\n",
      "dtype: int64\n"
     ]
    }
   ],
   "source": [
    "n = df.nunique(axis=0)\n",
    " \n",
    "print(\"No.of.unique values in each column :\\n\",\n",
    "      n)"
   ]
  },
  {
   "cell_type": "code",
   "execution_count": 7,
   "id": "ee7d0650",
   "metadata": {},
   "outputs": [
    {
     "data": {
      "text/plain": [
       "Text(0.5, 1.0, 'r distance counts')"
      ]
     },
     "execution_count": 7,
     "metadata": {},
     "output_type": "execute_result"
    },
    {
     "data": {
      "image/png": "[encoded data removed]",
      "text/plain": [
       "<Figure size 432x288 with 1 Axes>"
      ]
     },
     "metadata": {},
     "output_type": "display_data"
    }
   ],
   "source": [
    "#Visualization\n",
    "sns.set()\n",
    "sns.histplot(df[\"r distance (cm)\"])\n",
    "plt.title(\"r distance counts\")"
   ]
  },
  {
   "cell_type": "code",
   "execution_count": 8,
   "id": "2c6f2cb2",
   "metadata": {},
   "outputs": [
    {
     "data": {
      "text/plain": [
       "<seaborn.axisgrid.FacetGrid at 0x1e76ae1f9a0>"
      ]
     },
     "execution_count": 8,
     "metadata": {},
     "output_type": "execute_result"
    },
    {
     "data": {
      "image/png": "[encoded data removed]",
      "text/plain": [
       "<Figure size 431.225x360 with 1 Axes>"
      ]
     },
     "metadata": {},
     "output_type": "display_data"
    }
   ],
   "source": [
    "sns.set()\n",
    "sns.catplot(data = df, x= \"Initial Velocity\", y= \"r distance (cm)\", hue = \"Initial Side\")"
   ]
  },
  {
   "cell_type": "code",
   "execution_count": 9,
   "id": "f71945ea",
   "metadata": {},
   "outputs": [
    {
     "data": {
      "text/plain": [
       "<seaborn.axisgrid.FacetGrid at 0x1e72e55a580>"
      ]
     },
     "execution_count": 9,
     "metadata": {},
     "output_type": "execute_result"
    },
    {
     "data": {
      "image/png": "[encoded data removed]",
      "text/plain": [
       "<Figure size 431.225x360 with 1 Axes>"
      ]
     },
     "metadata": {},
     "output_type": "display_data"
    }
   ],
   "source": [
    "sns.catplot(data = df, x= \"Material\", y= \"r distance (cm)\", hue = \"Initial Side\")"
   ]
  },
  {
   "cell_type": "code",
   "execution_count": 10,
   "id": "db0f0d10",
   "metadata": {},
   "outputs": [
    {
     "data": {
      "text/html": [
       "<div>\n",
       "<style scoped>\n",
       "    .dataframe tbody tr th:only-of-type {\n",
       "        vertical-align: middle;\n",
       "    }\n",
       "\n",
       "    .dataframe tbody tr th {\n",
       "        vertical-align: top;\n",
       "    }\n",
       "\n",
       "    .dataframe thead th {\n",
       "        text-align: right;\n",
       "    }\n",
       "</style>\n",
       "<table border=\"1\" class=\"dataframe\">\n",
       "  <thead>\n",
       "    <tr style=\"text-align: right;\">\n",
       "      <th></th>\n",
       "      <th>Initial Side</th>\n",
       "      <th>Initial Velocity</th>\n",
       "      <th>Material</th>\n",
       "      <th>r distance (cm)</th>\n",
       "      <th>Distance to Origin</th>\n",
       "      <th>Direction</th>\n",
       "      <th>Final Side</th>\n",
       "    </tr>\n",
       "  </thead>\n",
       "  <tbody>\n",
       "    <tr>\n",
       "      <th>0</th>\n",
       "      <td>0</td>\n",
       "      <td>0</td>\n",
       "      <td>0</td>\n",
       "      <td>13</td>\n",
       "      <td>1</td>\n",
       "      <td>5</td>\n",
       "      <td>1</td>\n",
       "    </tr>\n",
       "    <tr>\n",
       "      <th>1</th>\n",
       "      <td>0</td>\n",
       "      <td>0</td>\n",
       "      <td>0</td>\n",
       "      <td>26</td>\n",
       "      <td>3</td>\n",
       "      <td>5</td>\n",
       "      <td>1</td>\n",
       "    </tr>\n",
       "    <tr>\n",
       "      <th>2</th>\n",
       "      <td>0</td>\n",
       "      <td>0</td>\n",
       "      <td>0</td>\n",
       "      <td>18</td>\n",
       "      <td>1</td>\n",
       "      <td>2</td>\n",
       "      <td>1</td>\n",
       "    </tr>\n",
       "    <tr>\n",
       "      <th>3</th>\n",
       "      <td>0</td>\n",
       "      <td>0</td>\n",
       "      <td>0</td>\n",
       "      <td>22</td>\n",
       "      <td>2</td>\n",
       "      <td>0</td>\n",
       "      <td>0</td>\n",
       "    </tr>\n",
       "    <tr>\n",
       "      <th>4</th>\n",
       "      <td>0</td>\n",
       "      <td>0</td>\n",
       "      <td>0</td>\n",
       "      <td>15</td>\n",
       "      <td>1</td>\n",
       "      <td>0</td>\n",
       "      <td>1</td>\n",
       "    </tr>\n",
       "    <tr>\n",
       "      <th>...</th>\n",
       "      <td>...</td>\n",
       "      <td>...</td>\n",
       "      <td>...</td>\n",
       "      <td>...</td>\n",
       "      <td>...</td>\n",
       "      <td>...</td>\n",
       "      <td>...</td>\n",
       "    </tr>\n",
       "    <tr>\n",
       "      <th>245</th>\n",
       "      <td>1</td>\n",
       "      <td>1</td>\n",
       "      <td>0</td>\n",
       "      <td>40</td>\n",
       "      <td>6</td>\n",
       "      <td>4</td>\n",
       "      <td>0</td>\n",
       "    </tr>\n",
       "    <tr>\n",
       "      <th>246</th>\n",
       "      <td>1</td>\n",
       "      <td>1</td>\n",
       "      <td>0</td>\n",
       "      <td>29</td>\n",
       "      <td>7</td>\n",
       "      <td>5</td>\n",
       "      <td>1</td>\n",
       "    </tr>\n",
       "    <tr>\n",
       "      <th>247</th>\n",
       "      <td>1</td>\n",
       "      <td>1</td>\n",
       "      <td>0</td>\n",
       "      <td>35</td>\n",
       "      <td>5</td>\n",
       "      <td>0</td>\n",
       "      <td>0</td>\n",
       "    </tr>\n",
       "    <tr>\n",
       "      <th>248</th>\n",
       "      <td>1</td>\n",
       "      <td>1</td>\n",
       "      <td>0</td>\n",
       "      <td>26</td>\n",
       "      <td>6</td>\n",
       "      <td>1</td>\n",
       "      <td>0</td>\n",
       "    </tr>\n",
       "    <tr>\n",
       "      <th>249</th>\n",
       "      <td>1</td>\n",
       "      <td>1</td>\n",
       "      <td>0</td>\n",
       "      <td>46</td>\n",
       "      <td>11</td>\n",
       "      <td>1</td>\n",
       "      <td>0</td>\n",
       "    </tr>\n",
       "  </tbody>\n",
       "</table>\n",
       "<p>250 rows × 7 columns</p>\n",
       "</div>"
      ],
      "text/plain": [
       "     Initial Side  Initial Velocity  Material  r distance (cm)  \\\n",
       "0               0                 0         0               13   \n",
       "1               0                 0         0               26   \n",
       "2               0                 0         0               18   \n",
       "3               0                 0         0               22   \n",
       "4               0                 0         0               15   \n",
       "..            ...               ...       ...              ...   \n",
       "245             1                 1         0               40   \n",
       "246             1                 1         0               29   \n",
       "247             1                 1         0               35   \n",
       "248             1                 1         0               26   \n",
       "249             1                 1         0               46   \n",
       "\n",
       "     Distance to Origin  Direction  Final Side  \n",
       "0                     1          5           1  \n",
       "1                     3          5           1  \n",
       "2                     1          2           1  \n",
       "3                     2          0           0  \n",
       "4                     1          0           1  \n",
       "..                  ...        ...         ...  \n",
       "245                   6          4           0  \n",
       "246                   7          5           1  \n",
       "247                   5          0           0  \n",
       "248                   6          1           0  \n",
       "249                  11          1           0  \n",
       "\n",
       "[250 rows x 7 columns]"
      ]
     },
     "execution_count": 10,
     "metadata": {},
     "output_type": "execute_result"
    }
   ],
   "source": [
    "#Preprocess Data\n",
    "le = LabelEncoder()\n",
    "df[\"Initial Side\"] = le.fit_transform(df[\"Initial Side\"]) \n",
    "df[\"Final Side\"] = le.fit_transform(df[\"Final Side\"]) \n",
    "df[\"Initial Velocity\"] = le.fit_transform(df[\"Initial Velocity\"]) \n",
    "df[\"Material\"] = le.fit_transform(df[\"Material\"]) \n",
    "df[\"Direction\"] = le.fit_transform(df[\"Direction\"])\n",
    "df"
   ]
  },
  {
   "cell_type": "code",
   "execution_count": 11,
   "id": "e2512d8d",
   "metadata": {},
   "outputs": [
    {
     "data": {
      "text/plain": [
       "<AxesSubplot:>"
      ]
     },
     "execution_count": 11,
     "metadata": {},
     "output_type": "execute_result"
    },
    {
     "data": {
      "image/png": "[encoded data removed]",
      "text/plain": [
       "<Figure size 842.4x595.44 with 2 Axes>"
      ]
     },
     "metadata": {},
     "output_type": "display_data"
    }
   ],
   "source": [
    "sns.set(rc={'figure.figsize':(11.7,8.27)})\n",
    "sns.heatmap(df.corr(),annot = True)"
   ]
  },
  {
   "cell_type": "code",
   "execution_count": 12,
   "id": "58c07a41",
   "metadata": {},
   "outputs": [],
   "source": [
    "# Ready to Predict\n",
    "X = df.drop([\"r distance (cm)\", \"Distance to Origin\", \"Final Side\",\"Direction\"], axis=1)\n",
    "y_coin_position = df[\"r distance (cm)\"]\n",
    "y_distance_to_origin = df[\"Distance to Origin\"]\n",
    "y_final_side = df[\"Final Side\"]\n",
    "y_direction = df[\"Direction\"]"
   ]
  },
  {
   "cell_type": "code",
   "execution_count": 13,
   "id": "194c1443",
   "metadata": {},
   "outputs": [],
   "source": [
    "# Train-test split\n",
    "X_train, X_test, y_train_coin_position, y_test_coin_position = train_test_split(X, y_coin_position, test_size=0.2, random_state=42)\n",
    "X_train, X_test, y_train_distance_to_origin, y_test_distance_to_origin = train_test_split(X, y_distance_to_origin, test_size=0.2, random_state=42)\n",
    "X_train, X_test, y_train_final_side, y_test_final_side = train_test_split(X, y_final_side, test_size=0.2, random_state=42)\n",
    "X_train, X_test, y_direction, y_direction = train_test_split(X, y_direction, test_size=0.2, random_state=42)"
   ]
  },
  {
   "cell_type": "code",
   "execution_count": 15,
   "id": "2d8ab2f7",
   "metadata": {},
   "outputs": [
    {
     "data": {
      "text/html": [
       "<style>#sk-container-id-1 {color: black;background-color: white;}#sk-container-id-1 pre{padding: 0;}#sk-container-id-1 div.sk-toggleable {background-color: white;}#sk-container-id-1 label.sk-toggleable__label {cursor: pointer;display: block;width: 100%;margin-bottom: 0;padding: 0.3em;box-sizing: border-box;text-align: center;}#sk-container-id-1 label.sk-toggleable__label-arrow:before {content: \"▸\";float: left;margin-right: 0.25em;color: #696969;}#sk-container-id-1 label.sk-toggleable__label-arrow:hover:before {color: black;}#sk-container-id-1 div.sk-estimator:hover label.sk-toggleable__label-arrow:before {color: black;}#sk-container-id-1 div.sk-toggleable__content {max-height: 0;max-width: 0;overflow: hidden;text-align: left;background-color: #f0f8ff;}#sk-container-id-1 div.sk-toggleable__content pre {margin: 0.2em;color: black;border-radius: 0.25em;background-color: #f0f8ff;}#sk-container-id-1 input.sk-toggleable__control:checked~div.sk-toggleable__content {max-height: 200px;max-width: 100%;overflow: auto;}#sk-container-id-1 input.sk-toggleable__control:checked~label.sk-toggleable__label-arrow:before {content: \"▾\";}#sk-container-id-1 div.sk-estimator input.sk-toggleable__control:checked~label.sk-toggleable__label {background-color: #d4ebff;}#sk-container-id-1 div.sk-label input.sk-toggleable__control:checked~label.sk-toggleable__label {background-color: #d4ebff;}#sk-container-id-1 input.sk-hidden--visually {border: 0;clip: rect(1px 1px 1px 1px);clip: rect(1px, 1px, 1px, 1px);height: 1px;margin: -1px;overflow: hidden;padding: 0;position: absolute;width: 1px;}#sk-container-id-1 div.sk-estimator {font-family: monospace;background-color: #f0f8ff;border: 1px dotted black;border-radius: 0.25em;box-sizing: border-box;margin-bottom: 0.5em;}#sk-container-id-1 div.sk-estimator:hover {background-color: #d4ebff;}#sk-container-id-1 div.sk-parallel-item::after {content: \"\";width: 100%;border-bottom: 1px solid gray;flex-grow: 1;}#sk-container-id-1 div.sk-label:hover label.sk-toggleable__label {background-color: #d4ebff;}#sk-container-id-1 div.sk-serial::before {content: \"\";position: absolute;border-left: 1px solid gray;box-sizing: border-box;top: 0;bottom: 0;left: 50%;z-index: 0;}#sk-container-id-1 div.sk-serial {display: flex;flex-direction: column;align-items: center;background-color: white;padding-right: 0.2em;padding-left: 0.2em;position: relative;}#sk-container-id-1 div.sk-item {position: relative;z-index: 1;}#sk-container-id-1 div.sk-parallel {display: flex;align-items: stretch;justify-content: center;background-color: white;position: relative;}#sk-container-id-1 div.sk-item::before, #sk-container-id-1 div.sk-parallel-item::before {content: \"\";position: absolute;border-left: 1px solid gray;box-sizing: border-box;top: 0;bottom: 0;left: 50%;z-index: -1;}#sk-container-id-1 div.sk-parallel-item {display: flex;flex-direction: column;z-index: 1;position: relative;background-color: white;}#sk-container-id-1 div.sk-parallel-item:first-child::after {align-self: flex-end;width: 50%;}#sk-container-id-1 div.sk-parallel-item:last-child::after {align-self: flex-start;width: 50%;}#sk-container-id-1 div.sk-parallel-item:only-child::after {width: 0;}#sk-container-id-1 div.sk-dashed-wrapped {border: 1px dashed gray;margin: 0 0.4em 0.5em 0.4em;box-sizing: border-box;padding-bottom: 0.4em;background-color: white;}#sk-container-id-1 div.sk-label label {font-family: monospace;font-weight: bold;display: inline-block;line-height: 1.2em;}#sk-container-id-1 div.sk-label-container {text-align: center;}#sk-container-id-1 div.sk-container {/* jupyter's `normalize.less` sets `[hidden] { display: none; }` but bootstrap.min.css set `[hidden] { display: none !important; }` so we also need the `!important` here to be able to override the default hidden behavior on the sphinx rendered scikit-learn.org. See: https://github.com/scikit-learn/scikit-learn/issues/21755 */display: inline-block !important;position: relative;}#sk-container-id-1 div.sk-text-repr-fallback {display: none;}</style><div id=\"sk-container-id-1\" class=\"sk-top-container\"><div class=\"sk-text-repr-fallback\"><pre>MLPClassifier(hidden_layer_sizes=(64, 32), max_iter=1000)</pre><b>In a Jupyter environment, please rerun this cell to show the HTML representation or trust the notebook. <br />On GitHub, the HTML representation is unable to render, please try loading this page with nbviewer.org.</b></div><div class=\"sk-container\" hidden><div class=\"sk-item\"><div class=\"sk-estimator sk-toggleable\"><input class=\"sk-toggleable__control sk-hidden--visually\" id=\"sk-estimator-id-1\" type=\"checkbox\" checked><label for=\"sk-estimator-id-1\" class=\"sk-toggleable__label sk-toggleable__label-arrow\">MLPClassifier</label><div class=\"sk-toggleable__content\"><pre>MLPClassifier(hidden_layer_sizes=(64, 32), max_iter=1000)</pre></div></div></div></div></div>"
      ],
      "text/plain": [
       "MLPClassifier(hidden_layer_sizes=(64, 32), max_iter=1000)"
      ]
     },
     "execution_count": 15,
     "metadata": {},
     "output_type": "execute_result"
    }
   ],
   "source": [
    "# Build the MLPClassifier model for each target variable\n",
    "model_coin_position = MLPClassifier(hidden_layer_sizes=(64, 32), activation='relu', max_iter=1000)\n",
    "model_distance_to_origin = MLPClassifier(hidden_layer_sizes=(64, 32), activation='relu', max_iter=1000)\n",
    "model_final_side = MLPClassifier(hidden_layer_sizes=(64, 32), activation='relu', max_iter=1000)\n",
    "model_direction = MLPClassifier(hidden_layer_sizes=(64, 32), activation='relu', max_iter=1000)\n",
    "\n",
    "# Train each model\n",
    "model_coin_position.fit(X_train, y_train_coin_position)\n",
    "model_distance_to_origin.fit(X_train, y_train_distance_to_origin)\n",
    "model_final_side.fit(X_train, y_train_final_side)\n",
    "model_direction.fit(X_test, y_direction)\n"
   ]
  },
  {
   "cell_type": "code",
   "execution_count": 16,
   "id": "23da65ad",
   "metadata": {},
   "outputs": [
    {
     "name": "stdout",
     "output_type": "stream",
     "text": [
      "Final Side Accuracy: 0.6\n"
     ]
    }
   ],
   "source": [
    "#Accuracy\n",
    "accuracy_final_side = model_final_side.score(X_test, y_test_final_side)\n",
    "print(f'Final Side Accuracy: {accuracy_final_side}')"
   ]
  },
  {
   "cell_type": "code",
   "execution_count": 17,
   "id": "1edd22e0",
   "metadata": {},
   "outputs": [
    {
     "data": {
      "text/html": [
       "<div>\n",
       "<style scoped>\n",
       "    .dataframe tbody tr th:only-of-type {\n",
       "        vertical-align: middle;\n",
       "    }\n",
       "\n",
       "    .dataframe tbody tr th {\n",
       "        vertical-align: top;\n",
       "    }\n",
       "\n",
       "    .dataframe thead th {\n",
       "        text-align: right;\n",
       "    }\n",
       "</style>\n",
       "<table border=\"1\" class=\"dataframe\">\n",
       "  <thead>\n",
       "    <tr style=\"text-align: right;\">\n",
       "      <th></th>\n",
       "      <th>Initial Side</th>\n",
       "      <th>Initial Velocity</th>\n",
       "      <th>Material</th>\n",
       "      <th>r distance</th>\n",
       "      <th>Distance to Origin</th>\n",
       "      <th>Direction</th>\n",
       "      <th>Final Side</th>\n",
       "    </tr>\n",
       "  </thead>\n",
       "  <tbody>\n",
       "    <tr>\n",
       "      <th>0</th>\n",
       "      <td>1</td>\n",
       "      <td>0</td>\n",
       "      <td>1</td>\n",
       "      <td>10</td>\n",
       "      <td>4</td>\n",
       "      <td>5</td>\n",
       "      <td>1</td>\n",
       "    </tr>\n",
       "    <tr>\n",
       "      <th>1</th>\n",
       "      <td>0</td>\n",
       "      <td>0</td>\n",
       "      <td>0</td>\n",
       "      <td>22</td>\n",
       "      <td>1</td>\n",
       "      <td>8</td>\n",
       "      <td>0</td>\n",
       "    </tr>\n",
       "    <tr>\n",
       "      <th>2</th>\n",
       "      <td>0</td>\n",
       "      <td>1</td>\n",
       "      <td>1</td>\n",
       "      <td>29</td>\n",
       "      <td>5</td>\n",
       "      <td>1</td>\n",
       "      <td>1</td>\n",
       "    </tr>\n",
       "    <tr>\n",
       "      <th>4</th>\n",
       "      <td>0</td>\n",
       "      <td>1</td>\n",
       "      <td>0</td>\n",
       "      <td>18</td>\n",
       "      <td>4</td>\n",
       "      <td>1</td>\n",
       "      <td>1</td>\n",
       "    </tr>\n",
       "    <tr>\n",
       "      <th>5</th>\n",
       "      <td>1</td>\n",
       "      <td>0</td>\n",
       "      <td>0</td>\n",
       "      <td>20</td>\n",
       "      <td>4</td>\n",
       "      <td>8</td>\n",
       "      <td>0</td>\n",
       "    </tr>\n",
       "    <tr>\n",
       "      <th>6</th>\n",
       "      <td>0</td>\n",
       "      <td>0</td>\n",
       "      <td>1</td>\n",
       "      <td>3</td>\n",
       "      <td>3</td>\n",
       "      <td>1</td>\n",
       "      <td>1</td>\n",
       "    </tr>\n",
       "    <tr>\n",
       "      <th>7</th>\n",
       "      <td>1</td>\n",
       "      <td>1</td>\n",
       "      <td>0</td>\n",
       "      <td>46</td>\n",
       "      <td>5</td>\n",
       "      <td>0</td>\n",
       "      <td>0</td>\n",
       "    </tr>\n",
       "    <tr>\n",
       "      <th>9</th>\n",
       "      <td>1</td>\n",
       "      <td>1</td>\n",
       "      <td>1</td>\n",
       "      <td>31</td>\n",
       "      <td>9</td>\n",
       "      <td>1</td>\n",
       "      <td>1</td>\n",
       "    </tr>\n",
       "  </tbody>\n",
       "</table>\n",
       "</div>"
      ],
      "text/plain": [
       "   Initial Side  Initial Velocity  Material  r distance  Distance to Origin  \\\n",
       "0             1                 0         1          10                   4   \n",
       "1             0                 0         0          22                   1   \n",
       "2             0                 1         1          29                   5   \n",
       "4             0                 1         0          18                   4   \n",
       "5             1                 0         0          20                   4   \n",
       "6             0                 0         1           3                   3   \n",
       "7             1                 1         0          46                   5   \n",
       "9             1                 1         1          31                   9   \n",
       "\n",
       "   Direction  Final Side  \n",
       "0          5           1  \n",
       "1          8           0  \n",
       "2          1           1  \n",
       "4          1           1  \n",
       "5          8           0  \n",
       "6          1           1  \n",
       "7          0           0  \n",
       "9          1           1  "
      ]
     },
     "metadata": {},
     "output_type": "display_data"
    }
   ],
   "source": [
    "#Randomized events\n",
    "Initial_side = []\n",
    "Initial_velocity = []\n",
    "Material = []\n",
    "for i in range(500):\n",
    "    Initial_side.append(random.randint(0,1))\n",
    "for i in range(500):\n",
    "    Initial_velocity.append(random.randint(0,1))\n",
    "for i in range(500):\n",
    "    Material.append(random.randint(0,1))\n",
    "    \n",
    "    \n",
    "input_data = pd.DataFrame({\n",
    "    'Initial Side': Initial_side,\n",
    "    'Initial Velocity': Initial_velocity,\n",
    "    'Material': Material,\n",
    "})\n",
    "\n",
    "# Predictions for randomized events\n",
    "for i in range(500):\n",
    "    prediction_coin_position = model_coin_position.predict(input_data)\n",
    "    prediction_distance_to_origin = model_distance_to_origin.predict(input_data)\n",
    "    prediction_final_side = model_final_side.predict(input_data)\n",
    "    prediction_direction = model_direction.predict(input_data)\n",
    "\n",
    "input_data[\"r distance\"] = prediction_coin_position\n",
    "input_data[\"Distance to Origin\"] = prediction_distance_to_origin\n",
    "input_data[\"Direction\"] = prediction_direction\n",
    "input_data[\"Final Side\"] = prediction_final_side\n",
    "predicted_data = input_data.drop_duplicates(inplace=False)\n",
    "display(predicted_data)\n"
   ]
  },
  {
   "cell_type": "code",
   "execution_count": 18,
   "id": "af5886c4",
   "metadata": {},
   "outputs": [
    {
     "data": {
      "text/plain": [
       "<seaborn.axisgrid.FacetGrid at 0x1e72fc7c070>"
      ]
     },
     "execution_count": 18,
     "metadata": {},
     "output_type": "execute_result"
    },
    {
     "data": {
      "image/png": "[encoded data removed]",
      "text/plain": [
       "<Figure size 423.925x360 with 1 Axes>"
      ]
     },
     "metadata": {},
     "output_type": "display_data"
    }
   ],
   "source": [
    "#Final Visualizations\n",
    "sns.catplot(data = predicted_data, x= \"Material\", y= \"r distance\", hue = \"Initial Side\")"
   ]
  },
  {
   "cell_type": "code",
   "execution_count": 19,
   "id": "ac081c40",
   "metadata": {},
   "outputs": [
    {
     "data": {
      "text/plain": [
       "<seaborn.axisgrid.FacetGrid at 0x1e730535e20>"
      ]
     },
     "execution_count": 19,
     "metadata": {},
     "output_type": "execute_result"
    },
    {
     "data": {
      "image/png": "[encoded data removed]",
      "text/plain": [
       "<Figure size 423.925x360 with 1 Axes>"
      ]
     },
     "metadata": {},
     "output_type": "display_data"
    }
   ],
   "source": [
    "sns.catplot(data = predicted_data, x= \"Initial Velocity\", y= \"r distance\", hue = \"Initial Side\")"
   ]
  },
  {
   "cell_type": "code",
   "execution_count": null,
   "id": "80989fd0",
   "metadata": {},
   "outputs": [],
   "source": []
  }
 ],
 "metadata": {
  "kernelspec": {
   "display_name": "Python 3 (ipykernel)",
   "language": "python",
   "name": "python3"
  },
  "language_info": {
   "codemirror_mode": {
    "name": "ipython",
    "version": 3
   },
   "file_extension": ".py",
   "mimetype": "text/x-python",
   "name": "python",
   "nbconvert_exporter": "python",
   "pygments_lexer": "ipython3",
   "version": "3.9.12"
  }
 },
 "nbformat": 4,
 "nbformat_minor": 5
}
